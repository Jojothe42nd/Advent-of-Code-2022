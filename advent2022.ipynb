{
 "cells": [
  {
   "cell_type": "code",
   "execution_count": 1,
   "id": "ddd1a006-15cd-469f-8da6-2a9aca993d39",
   "metadata": {},
   "outputs": [],
   "source": [
    "import numpy as np"
   ]
  },
  {
   "cell_type": "markdown",
   "id": "4242cf45-a3b1-4648-be5d-d0f17b272971",
   "metadata": {
    "jp-MarkdownHeadingCollapsed": true,
    "tags": []
   },
   "source": [
    "# 1. Dezember"
   ]
  },
  {
   "cell_type": "code",
   "execution_count": 34,
   "id": "5861a535-9f36-499d-b2b9-e470865251e3",
   "metadata": {},
   "outputs": [
    {
     "name": "stdout",
     "output_type": "stream",
     "text": [
      "71124\n"
     ]
    }
   ],
   "source": [
    "elves = []\n",
    "calories = []\n",
    "\n",
    "with open('input1.txt', 'r') as f:\n",
    "    for line in f:\n",
    "        if line != '\\n':\n",
    "            calories.append(int(line))\n",
    "        else:\n",
    "            elves.append(calories)\n",
    "            calories = []\n",
    "\n",
    "length = max(map(len, elves))\n",
    "elves = np.array([elve+[0]*(length-len(elve)) for elve in elves])\n",
    "\n",
    "sum_calories = np.sum(elves, axis = 1)\n",
    "print(max(sum_calories))"
   ]
  },
  {
   "cell_type": "code",
   "execution_count": 39,
   "id": "30df21c6-8f5d-435e-abf1-2a1eb7e5bdaf",
   "metadata": {},
   "outputs": [
    {
     "name": "stdout",
     "output_type": "stream",
     "text": [
      "204639\n"
     ]
    }
   ],
   "source": [
    "sum_calories_sorted = np.sort(sum_calories)\n",
    "top_three = sum(sum_calories_sorted[-3:])\n",
    "print(top_three)"
   ]
  },
  {
   "cell_type": "markdown",
   "id": "9795679c-8fe6-4e9f-994f-9ae53a0bd510",
   "metadata": {
    "jp-MarkdownHeadingCollapsed": true,
    "tags": []
   },
   "source": [
    "# 2. Dezember"
   ]
  },
  {
   "cell_type": "code",
   "execution_count": 9,
   "id": "6d126fd5-3b82-4806-8b62-7aa4b3748c93",
   "metadata": {},
   "outputs": [
    {
     "name": "stdout",
     "output_type": "stream",
     "text": [
      "11873\n"
     ]
    }
   ],
   "source": [
    "rounds = []\n",
    "with open('input2.txt', 'r') as f:\n",
    "    for line in f:\n",
    "        rounds.append(line.strip())\n",
    "\n",
    "ldw = {'l':0, 'd': 3, 'w':6}\n",
    "rps = {'r':1, 'p':2, 's': 3}\n",
    "points = {'A X': ldw['d'] + rps['r'], 'A Y': ldw['w'] + rps['p'], 'A Z': ldw['l'] + rps['s'],\n",
    "         'B X': ldw['l'] + rps['r'], 'B Y': ldw['d'] + rps['p'], 'B Z': ldw['w'] + rps['s'],\n",
    "         'C X': ldw['w'] + rps['r'], 'C Y': ldw['l'] + rps['p'], 'C Z': ldw['d'] + rps['s']}\n",
    "\n",
    "points_rounds = []\n",
    "for i in rounds:\n",
    "    points_rounds.append(points[i])\n",
    "    \n",
    "sum_points = sum(points_rounds)\n",
    "print(sum_points)"
   ]
  },
  {
   "cell_type": "code",
   "execution_count": 10,
   "id": "a41c07c4-b13a-44d0-a5d0-de30aa4c0465",
   "metadata": {},
   "outputs": [
    {
     "name": "stdout",
     "output_type": "stream",
     "text": [
      "12014\n"
     ]
    }
   ],
   "source": [
    "ldw2 = {'X':0, 'Y': 3, 'Z':6}\n",
    "\n",
    "l = {'A':'s', 'B':'r', 'C':'p'}\n",
    "d = {'A':'r', 'B':'p', 'C':'s'}\n",
    "w = {'A':'p', 'B':'s', 'C':'r'}\n",
    "\n",
    "points_rounds2 = []\n",
    "for i in rounds:\n",
    "    temp_points = ldw2[i[2]]\n",
    "    if i[2] == 'X':\n",
    "        temp_points += rps[l[i[0]]]\n",
    "    elif i[2] == 'Y':\n",
    "        temp_points += rps[d[i[0]]]\n",
    "    elif i[2] == 'Z':\n",
    "        temp_points += rps[w[i[0]]]\n",
    "    points_rounds2.append(temp_points)\n",
    "\n",
    "sum_points2 = sum(points_rounds2)\n",
    "print(sum_points2)"
   ]
  },
  {
   "cell_type": "markdown",
   "id": "6586d2e8-c632-4c40-a593-7d3e60135bb0",
   "metadata": {
    "jp-MarkdownHeadingCollapsed": true,
    "tags": []
   },
   "source": [
    "# 3. Dezember"
   ]
  },
  {
   "cell_type": "code",
   "execution_count": 1,
   "id": "039b1dff-d29b-40ab-952e-a79763da5869",
   "metadata": {},
   "outputs": [
    {
     "name": "stdout",
     "output_type": "stream",
     "text": [
      "7875\n"
     ]
    }
   ],
   "source": [
    "import string\n",
    "values = dict()\n",
    "for index, letter in enumerate(string.ascii_letters):\n",
    "    values[letter] = index + 1\n",
    "\n",
    "rucksacks = []\n",
    "with open('input3.txt', 'r') as f:\n",
    "    for line in f:\n",
    "        line = line.strip()\n",
    "        rucksacks.append(line)\n",
    "        \n",
    "compartments = []\n",
    "for i in range(len(rucksacks)):\n",
    "    half_len = int(len(rucksacks[i])/2)\n",
    "    compartments.append(rucksacks[i][:half_len])\n",
    "    compartments.append(rucksacks[i][half_len:])\n",
    "\n",
    "double_item = []    \n",
    "value_item = []\n",
    "\n",
    "for i in range(0, len(compartments), 2):\n",
    "    for j in range(len(compartments[i])):\n",
    "        if compartments[i][j] in compartments[i+1]:\n",
    "            double_item.append(compartments[i][j])\n",
    "            value_item.append(values[compartments[i][j]])\n",
    "            break\n",
    "\n",
    "sum_prio = sum(value_item)\n",
    "print(sum_prio)"
   ]
  },
  {
   "cell_type": "code",
   "execution_count": 2,
   "id": "fee7543e-b8b3-4797-9ab8-14afd2aafcaa",
   "metadata": {},
   "outputs": [
    {
     "name": "stdout",
     "output_type": "stream",
     "text": [
      "2479\n"
     ]
    }
   ],
   "source": [
    "badges = []\n",
    "value_badges = []\n",
    "\n",
    "for i in range(0, len(rucksacks), 3):\n",
    "    for j in range(len(rucksacks[i])):\n",
    "        if rucksacks[i][j] in rucksacks[i+1] and rucksacks[i][j] in rucksacks[i+2]:\n",
    "            badges.append(rucksacks[i][j])\n",
    "            value_badges.append(values[rucksacks[i][j]])\n",
    "            break\n",
    "            \n",
    "sum_badges = sum(value_badges)\n",
    "print(sum_badges)"
   ]
  }
 ],
 "metadata": {
  "kernelspec": {
   "display_name": "Python 3 (ipykernel)",
   "language": "python",
   "name": "python3"
  },
  "language_info": {
   "codemirror_mode": {
    "name": "ipython",
    "version": 3
   },
   "file_extension": ".py",
   "mimetype": "text/x-python",
   "name": "python",
   "nbconvert_exporter": "python",
   "pygments_lexer": "ipython3",
   "version": "3.9.7"
  }
 },
 "nbformat": 4,
 "nbformat_minor": 5
}
